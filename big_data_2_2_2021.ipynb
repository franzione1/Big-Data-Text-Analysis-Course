{
  "nbformat": 4,
  "nbformat_minor": 0,
  "metadata": {
    "colab": {
      "provenance": [],
      "authorship_tag": "ABX9TyP1Ze5aSxYv7d/djZH80Win",
      "include_colab_link": true
    },
    "kernelspec": {
      "name": "python3",
      "display_name": "Python 3"
    },
    "language_info": {
      "name": "python"
    }
  },
  "cells": [
    {
      "cell_type": "markdown",
      "metadata": {
        "id": "view-in-github",
        "colab_type": "text"
      },
      "source": [
        "<a href=\"https://colab.research.google.com/github/franzione1/Big-Data-Text-Analysis-Course/blob/master/big_data_2_2_2021.ipynb\" target=\"_parent\"><img src=\"https://colab.research.google.com/assets/colab-badge.svg\" alt=\"Open In Colab\"/></a>"
      ]
    },
    {
      "cell_type": "markdown",
      "source": [
        "# Nuova sezione"
      ],
      "metadata": {
        "id": "n-6nFb_UUnDT"
      }
    },
    {
      "cell_type": "code",
      "source": [
        "type(5)"
      ],
      "metadata": {
        "id": "0lltJ944Wk2n",
        "colab": {
          "base_uri": "https://localhost:8080/"
        },
        "outputId": "69c4a890-24df-48a7-cddd-558380137729"
      },
      "execution_count": null,
      "outputs": [
        {
          "output_type": "execute_result",
          "data": {
            "text/plain": [
              "int"
            ]
          },
          "metadata": {},
          "execution_count": 1
        }
      ]
    },
    {
      "cell_type": "code",
      "source": [
        "type('Daniele')"
      ],
      "metadata": {
        "id": "2ejkaT4-YUb2",
        "colab": {
          "base_uri": "https://localhost:8080/"
        },
        "outputId": "18e02b62-5612-4450-a927-1fd76f45bd96"
      },
      "execution_count": null,
      "outputs": [
        {
          "output_type": "execute_result",
          "data": {
            "text/plain": [
              "str"
            ]
          },
          "metadata": {},
          "execution_count": 2
        }
      ]
    },
    {
      "cell_type": "code",
      "source": [
        "a = 0\n",
        "a = a + 1\n",
        "a"
      ],
      "metadata": {
        "colab": {
          "base_uri": "https://localhost:8080/"
        },
        "id": "JpQUzNRHFElB",
        "outputId": "c7b51f11-3f80-4804-81bd-753a2199637b"
      },
      "execution_count": null,
      "outputs": [
        {
          "output_type": "execute_result",
          "data": {
            "text/plain": [
              "1"
            ]
          },
          "metadata": {},
          "execution_count": 3
        }
      ]
    },
    {
      "cell_type": "code",
      "source": [
        "print(a)"
      ],
      "metadata": {
        "colab": {
          "base_uri": "https://localhost:8080/"
        },
        "id": "GWUe-vuTFMCZ",
        "outputId": "96e80eec-adf4-4be9-9dec-e6ac77c7637a"
      },
      "execution_count": null,
      "outputs": [
        {
          "output_type": "stream",
          "name": "stdout",
          "text": [
            "1\n"
          ]
        }
      ]
    },
    {
      "cell_type": "code",
      "source": [
        "# to define functions in Python you use def\n",
        "def somma(a, b):\n",
        "  # and then you need to indent correctly\n",
        "  return a+b\n",
        "\n",
        "a = 1\n",
        "b = 4\n",
        "\n",
        "print(somma(a,b))"
      ],
      "metadata": {
        "colab": {
          "base_uri": "https://localhost:8080/"
        },
        "id": "QBkq3Ko1FTFT",
        "outputId": "e6a2586f-e6ff-4655-babb-84398f609be7"
      },
      "execution_count": null,
      "outputs": [
        {
          "output_type": "stream",
          "name": "stdout",
          "text": [
            "5\n"
          ]
        }
      ]
    },
    {
      "cell_type": "code",
      "source": [
        "type(\"Francesco\")"
      ],
      "metadata": {
        "colab": {
          "base_uri": "https://localhost:8080/"
        },
        "id": "p9YaldQ6FqVx",
        "outputId": "50507576-3e52-4ea2-eb4f-bfd448d0fffa"
      },
      "execution_count": null,
      "outputs": [
        {
          "output_type": "execute_result",
          "data": {
            "text/plain": [
              "str"
            ]
          },
          "metadata": {},
          "execution_count": 7
        }
      ]
    },
    {
      "cell_type": "code",
      "source": [
        "type(a/b)"
      ],
      "metadata": {
        "colab": {
          "base_uri": "https://localhost:8080/"
        },
        "id": "9Ci0RXMUF0fV",
        "outputId": "d251ffbd-3db7-4f33-fa92-38b90b7f6000"
      },
      "execution_count": null,
      "outputs": [
        {
          "output_type": "execute_result",
          "data": {
            "text/plain": [
              "float"
            ]
          },
          "metadata": {},
          "execution_count": 8
        }
      ]
    },
    {
      "cell_type": "code",
      "source": [
        "import numpy as np\n",
        "\n",
        "np.array([1,2,3])"
      ],
      "metadata": {
        "colab": {
          "base_uri": "https://localhost:8080/"
        },
        "id": "-NwZrZFMF4FN",
        "outputId": "33d324e2-cf85-448a-e433-533c51446c16"
      },
      "execution_count": null,
      "outputs": [
        {
          "output_type": "execute_result",
          "data": {
            "text/plain": [
              "array([1, 2, 3])"
            ]
          },
          "metadata": {},
          "execution_count": 9
        }
      ]
    },
    {
      "cell_type": "code",
      "source": [
        "type(np.array([1,2,3]))"
      ],
      "metadata": {
        "colab": {
          "base_uri": "https://localhost:8080/"
        },
        "id": "lbZNpt2VGUS3",
        "outputId": "e33bee51-79bf-4968-92a1-56e4b11bfe82"
      },
      "execution_count": null,
      "outputs": [
        {
          "output_type": "execute_result",
          "data": {
            "text/plain": [
              "numpy.ndarray"
            ]
          },
          "metadata": {},
          "execution_count": 10
        }
      ]
    },
    {
      "cell_type": "code",
      "source": [
        "esempio_lista = [1, 2, 5]"
      ],
      "metadata": {
        "id": "j6KBqEN7GZW7"
      },
      "execution_count": null,
      "outputs": []
    },
    {
      "cell_type": "code",
      "source": [
        "# la List è proprio un type in Python\n",
        "\n",
        "type(esempio_lista)"
      ],
      "metadata": {
        "colab": {
          "base_uri": "https://localhost:8080/"
        },
        "id": "uFtc_aYfGgJm",
        "outputId": "4c7032d0-40f1-4251-8b8b-7287da9414e9"
      },
      "execution_count": null,
      "outputs": [
        {
          "output_type": "execute_result",
          "data": {
            "text/plain": [
              "list"
            ]
          },
          "metadata": {},
          "execution_count": 13
        }
      ]
    },
    {
      "cell_type": "code",
      "source": [
        "# ecco come funzionano gli if\n",
        "\n",
        "a = 4\n",
        "b = 5\n",
        "\n",
        "if (a < 5):\n",
        "    print(\"minore\")\n",
        "else:\n",
        "    print(\"a è maggiore o uguale\")\n",
        "\n",
        "if (b == 5):\n",
        "    print(\"b uguale\")\n",
        "else:\n",
        "    print(\"b diverso\")"
      ],
      "metadata": {
        "colab": {
          "base_uri": "https://localhost:8080/"
        },
        "id": "2MoD7U49Gilt",
        "outputId": "48a3beac-3fcf-4102-a0fd-4a7e6b51dbba"
      },
      "execution_count": null,
      "outputs": [
        {
          "output_type": "stream",
          "name": "stdout",
          "text": [
            "minore\n",
            "b uguale\n"
          ]
        }
      ]
    },
    {
      "cell_type": "code",
      "source": [
        "b = 6\n",
        "\n",
        "if (b == 5):\n",
        "  print(\"B è uguale a 5\")\n",
        "else:\n",
        "  print(\"B è diverso da 5\")"
      ],
      "metadata": {
        "colab": {
          "base_uri": "https://localhost:8080/"
        },
        "id": "alG5l2ptG4Xa",
        "outputId": "e16c3e2a-b951-425b-d689-5a8b300d6db5"
      },
      "execution_count": null,
      "outputs": [
        {
          "output_type": "stream",
          "name": "stdout",
          "text": [
            "B è diverso da 5\n"
          ]
        }
      ]
    },
    {
      "cell_type": "code",
      "source": [
        "# operazioni da poter fare sulle liste\n",
        "\n",
        "listA = [0, 1, 2, 3]"
      ],
      "metadata": {
        "id": "sIiCkThQHIOm"
      },
      "execution_count": null,
      "outputs": []
    },
    {
      "cell_type": "code",
      "source": [
        "# Adding element via append\n",
        "listA.append(4)\n",
        "listA"
      ],
      "metadata": {
        "colab": {
          "base_uri": "https://localhost:8080/"
        },
        "id": "dO7TF4PeIe4u",
        "outputId": "6ee0ed67-e4f4-4fa8-e947-c7a794108472"
      },
      "execution_count": null,
      "outputs": [
        {
          "output_type": "execute_result",
          "data": {
            "text/plain": [
              "[0, 1, 2, 3, 4]"
            ]
          },
          "metadata": {},
          "execution_count": 17
        }
      ]
    },
    {
      "cell_type": "code",
      "source": [
        "listA.append(1000)"
      ],
      "metadata": {
        "id": "0uGUJClSIjuA"
      },
      "execution_count": null,
      "outputs": []
    },
    {
      "cell_type": "code",
      "source": [
        "listA"
      ],
      "metadata": {
        "colab": {
          "base_uri": "https://localhost:8080/"
        },
        "id": "LH4h4ggaImla",
        "outputId": "160b4f90-ad93-46f6-8b08-650e2fdad6b5"
      },
      "execution_count": null,
      "outputs": [
        {
          "output_type": "execute_result",
          "data": {
            "text/plain": [
              "[0, 1, 2, 3, 4, 1000]"
            ]
          },
          "metadata": {},
          "execution_count": 19
        }
      ]
    },
    {
      "cell_type": "code",
      "source": [
        "# insert di fatto aggiunge ma diversamente dall'append, puoi scegliere dove aggiungere\n",
        "\n",
        "listA.insert(1, 1001)\n"
      ],
      "metadata": {
        "id": "eGKE9PRzIoBP"
      },
      "execution_count": null,
      "outputs": []
    },
    {
      "cell_type": "code",
      "source": [
        "listA"
      ],
      "metadata": {
        "colab": {
          "base_uri": "https://localhost:8080/"
        },
        "id": "vQ__svcbIs-m",
        "outputId": "f09b5160-9635-4c60-a782-cc581c4d56eb"
      },
      "execution_count": null,
      "outputs": [
        {
          "output_type": "execute_result",
          "data": {
            "text/plain": [
              "[0, 1001, 1, 2, 3, 4, 1000]"
            ]
          },
          "metadata": {},
          "execution_count": 21
        }
      ]
    },
    {
      "cell_type": "code",
      "source": [
        "t = 0\n",
        "listB = []\n",
        "\n",
        "# ciclo while\n",
        "while (t != 4):\n",
        "  listB.append(t)\n",
        "  t = t + 1\n",
        "\n",
        "listB"
      ],
      "metadata": {
        "colab": {
          "base_uri": "https://localhost:8080/"
        },
        "id": "r6rDMEO5IuUw",
        "outputId": "4403d1ed-a45d-44b5-be0d-f21d83c5adf8"
      },
      "execution_count": null,
      "outputs": [
        {
          "output_type": "execute_result",
          "data": {
            "text/plain": [
              "[0, 1, 2, 3]"
            ]
          },
          "metadata": {},
          "execution_count": 23
        }
      ]
    },
    {
      "cell_type": "code",
      "source": [
        "t = 0\n",
        "\n",
        "# questo è come funziona un for invece\n",
        "for t in range(5):\n",
        "  listB.insert(t, t)\n",
        "\n",
        "listB"
      ],
      "metadata": {
        "colab": {
          "base_uri": "https://localhost:8080/"
        },
        "id": "4THGXrlDJJQi",
        "outputId": "3f7b642d-db87-4796-889e-5275b9ff34b7"
      },
      "execution_count": null,
      "outputs": [
        {
          "output_type": "execute_result",
          "data": {
            "text/plain": [
              "[0, 1, 2, 3, 4, 0, 1, 2, 3]"
            ]
          },
          "metadata": {},
          "execution_count": 24
        }
      ]
    },
    {
      "cell_type": "code",
      "source": [
        "# questa operazione aggiunge una lista in fila all'altra\n",
        "listA + listB"
      ],
      "metadata": {
        "colab": {
          "base_uri": "https://localhost:8080/"
        },
        "id": "3EpkjbS8JdHy",
        "outputId": "9973895d-0a5a-4083-c79e-7e76926f4f51"
      },
      "execution_count": null,
      "outputs": [
        {
          "output_type": "execute_result",
          "data": {
            "text/plain": [
              "[0, 1001, 1, 2, 3, 4, 1000, 0, 1, 2, 3, 4, 0, 1, 2, 3]"
            ]
          },
          "metadata": {},
          "execution_count": 26
        }
      ]
    },
    {
      "cell_type": "code",
      "source": [
        "import pandas as pd"
      ],
      "metadata": {
        "id": "cf5EAVI1JtmM"
      },
      "execution_count": 2,
      "outputs": []
    },
    {
      "cell_type": "code",
      "source": [
        "dataset_ac = pd.read_csv(\"heart_failure_clinical_records_dataset.csv\")"
      ],
      "metadata": {
        "id": "w9STylLJKy6Z"
      },
      "execution_count": 37,
      "outputs": []
    },
    {
      "cell_type": "markdown",
      "source": [
        "Quante sono le istanze contenute nel dataset?\n",
        "Il dataset è completo (cioè per ogni\n",
        "istanza tutti i valori di ogni attributo sono sempre correttamente specificati non esistono “missing values”)?"
      ],
      "metadata": {
        "id": "oLELr4E1PN8T"
      }
    },
    {
      "cell_type": "code",
      "source": [
        "# funzione importante di pandas che ci permette di risalire al numero di righe di un dataset e quindi di ISTANZE\n",
        "\n",
        "dataset_ac.info()"
      ],
      "metadata": {
        "colab": {
          "base_uri": "https://localhost:8080/"
        },
        "id": "vZF8TMlRLHvw",
        "outputId": "0c303e0a-fa21-4e17-d240-6f81b4182199"
      },
      "execution_count": null,
      "outputs": [
        {
          "output_type": "stream",
          "name": "stdout",
          "text": [
            "<class 'pandas.core.frame.DataFrame'>\n",
            "RangeIndex: 299 entries, 0 to 298\n",
            "Data columns (total 13 columns):\n",
            " #   Column                    Non-Null Count  Dtype  \n",
            "---  ------                    --------------  -----  \n",
            " 0   age                       299 non-null    float64\n",
            " 1   anaemia                   299 non-null    int64  \n",
            " 2   creatinine_phosphokinase  299 non-null    int64  \n",
            " 3   diabetes                  299 non-null    int64  \n",
            " 4   ejection_fraction         299 non-null    int64  \n",
            " 5   high_blood_pressure       299 non-null    int64  \n",
            " 6   platelets                 299 non-null    float64\n",
            " 7   serum_creatinine          299 non-null    float64\n",
            " 8   serum_sodium              299 non-null    int64  \n",
            " 9   sex                       299 non-null    int64  \n",
            " 10  smoking                   299 non-null    int64  \n",
            " 11  time                      299 non-null    int64  \n",
            " 12  DEATH_EVENT               299 non-null    int64  \n",
            "dtypes: float64(3), int64(10)\n",
            "memory usage: 30.5 KB\n"
          ]
        }
      ]
    },
    {
      "cell_type": "code",
      "source": [
        "# trovo il numero di righe nel mio dataset\n",
        "\n",
        "dataset_ac.shape[0]"
      ],
      "metadata": {
        "colab": {
          "base_uri": "https://localhost:8080/"
        },
        "id": "aS8dCKXIMzz3",
        "outputId": "168e7fff-7fe5-4be5-e8d8-3abc10ac2ea0"
      },
      "execution_count": null,
      "outputs": [
        {
          "output_type": "execute_result",
          "data": {
            "text/plain": [
              "299"
            ]
          },
          "metadata": {},
          "execution_count": 34
        }
      ]
    },
    {
      "cell_type": "markdown",
      "source": [
        "I casi raccolti nel dataset sono equamente distribuiti per età?"
      ],
      "metadata": {
        "id": "Ne5NS5DiPhjd"
      }
    },
    {
      "cell_type": "code",
      "source": [
        "dataset_ac.age.values.mean()"
      ],
      "metadata": {
        "colab": {
          "base_uri": "https://localhost:8080/"
        },
        "id": "YOBVbsK0NVAm",
        "outputId": "730d4424-c4cd-40fd-9e43-435b1588fe81"
      },
      "execution_count": null,
      "outputs": [
        {
          "output_type": "execute_result",
          "data": {
            "text/plain": [
              "60.83389297658862"
            ]
          },
          "metadata": {},
          "execution_count": 38
        }
      ]
    },
    {
      "cell_type": "code",
      "source": [
        "dataset_ac[\"age\"].hist(bins=100)"
      ],
      "metadata": {
        "colab": {
          "base_uri": "https://localhost:8080/",
          "height": 447
        },
        "id": "7UndQOvhNwrC",
        "outputId": "ac1f0ace-6f3c-437c-8618-ab2321cae2b5"
      },
      "execution_count": null,
      "outputs": [
        {
          "output_type": "execute_result",
          "data": {
            "text/plain": [
              "<Axes: >"
            ]
          },
          "metadata": {},
          "execution_count": 39
        },
        {
          "output_type": "display_data",
          "data": {
            "text/plain": [
              "<Figure size 640x480 with 1 Axes>"
            ],
            "image/png": "[encoded data removed]"
          },
          "metadata": {}
        }
      ]
    },
    {
      "cell_type": "code",
      "source": [
        "# distribuzione poco omogenea\n",
        "print(dataset_ac.groupby('age').size())"
      ],
      "metadata": {
        "colab": {
          "base_uri": "https://localhost:8080/"
        },
        "id": "sRcPoesqOYWK",
        "outputId": "01103c58-a5cb-4856-ee02-b79134a138b8"
      },
      "execution_count": null,
      "outputs": [
        {
          "output_type": "stream",
          "name": "stdout",
          "text": [
            "age\n",
            "40.000     7\n",
            "41.000     1\n",
            "42.000     7\n",
            "43.000     1\n",
            "44.000     2\n",
            "45.000    19\n",
            "46.000     3\n",
            "47.000     1\n",
            "48.000     2\n",
            "49.000     4\n",
            "50.000    27\n",
            "51.000     4\n",
            "52.000     5\n",
            "53.000    10\n",
            "54.000     2\n",
            "55.000    17\n",
            "56.000     1\n",
            "57.000     2\n",
            "58.000    10\n",
            "59.000     4\n",
            "60.000    33\n",
            "60.667     2\n",
            "61.000     4\n",
            "62.000     5\n",
            "63.000     8\n",
            "64.000     3\n",
            "65.000    26\n",
            "66.000     2\n",
            "67.000     2\n",
            "68.000     5\n",
            "69.000     3\n",
            "70.000    25\n",
            "72.000     7\n",
            "73.000     4\n",
            "75.000    11\n",
            "77.000     2\n",
            "78.000     2\n",
            "79.000     1\n",
            "80.000     7\n",
            "81.000     1\n",
            "82.000     3\n",
            "85.000     6\n",
            "86.000     1\n",
            "87.000     1\n",
            "90.000     3\n",
            "94.000     1\n",
            "95.000     2\n",
            "dtype: int64\n"
          ]
        }
      ]
    },
    {
      "cell_type": "markdown",
      "source": [
        "## Il dataset è bilanciato per quanto riguarda la classe da predire?"
      ],
      "metadata": {
        "id": "yXfAVU96PEpk"
      }
    },
    {
      "cell_type": "code",
      "source": [
        "# la classe da predire è nell'esercizio dopo. Sarebbe il death event, quindi guardiamo come sono distribuiti i casi nel dataset\n",
        "\n",
        "# RICORDA: 1 morto, 0 vivo\n",
        "\n",
        "# questa tipologia di funzione plotta e sceglie il numero di colonne automaticamente\n",
        "dataset_ac[\"DEATH_EVENT\"].value_counts().plot.bar()"
      ],
      "metadata": {
        "colab": {
          "base_uri": "https://localhost:8080/",
          "height": 461
        },
        "id": "tLzVKk8LPHHQ",
        "outputId": "102d0b00-52fb-4cf6-c203-95f702a116ad"
      },
      "execution_count": null,
      "outputs": [
        {
          "output_type": "execute_result",
          "data": {
            "text/plain": [
              "<Axes: xlabel='DEATH_EVENT'>"
            ]
          },
          "metadata": {},
          "execution_count": 49
        },
        {
          "output_type": "display_data",
          "data": {
            "text/plain": [
              "<Figure size 640x480 with 1 Axes>"
            ],
            "image/png": "[encoded data removed]"
          },
          "metadata": {}
        }
      ]
    },
    {
      "cell_type": "code",
      "source": [
        "from posixpath import join\n",
        "dataset_ac.groupby(dataset_ac.join()).size()"
      ],
      "metadata": {
        "id": "s2QW0Bn3P1tD",
        "colab": {
          "base_uri": "https://localhost:8080/"
        },
        "outputId": "69ea5f31-3440-4467-d55c-da63f6e7d8b5"
      },
      "execution_count": 5,
      "outputs": [
        {
          "output_type": "execute_result",
          "data": {
            "text/plain": [
              "sex\n",
              "0    105\n",
              "1    194\n",
              "dtype: int64"
            ]
          },
          "metadata": {},
          "execution_count": 5
        }
      ]
    },
    {
      "cell_type": "markdown",
      "source": [
        "## Verificare se è vero che ci sono meno decessi tra le donne (sex = 0). Rappresentare graficamente se possibile quanto emerge dai dati."
      ],
      "metadata": {
        "id": "SOKRp2KuK9nM"
      }
    },
    {
      "cell_type": "code",
      "source": [
        "# query per trovare gli uomini\n",
        "pd.pivot_table(dataset_ac, 'age', index=\"sex\", columns='DEATH_EVENT', aggfunc='count').plot(kind=\"bar\")"
      ],
      "metadata": {
        "colab": {
          "base_uri": "https://localhost:8080/",
          "height": 461
        },
        "id": "CetjvyyKDDwm",
        "outputId": "0a777e93-5446-4373-f108-739c2b51dd39"
      },
      "execution_count": 14,
      "outputs": [
        {
          "output_type": "execute_result",
          "data": {
            "text/plain": [
              "<Axes: xlabel='sex'>"
            ]
          },
          "metadata": {},
          "execution_count": 14
        },
        {
          "output_type": "display_data",
          "data": {
            "text/plain": [
              "<Figure size 640x480 with 1 Axes>"
            ],
            "image/png": "[encoded data removed]"
          },
          "metadata": {}
        }
      ]
    },
    {
      "cell_type": "code",
      "source": [
        "# cos'è una tabella pivot? quella che vedi raffigurata qui sopra è un grafico\n",
        "\n",
        "# per ogni sesso si calcola la percentuale di decessi\n",
        "# lo fa semplicemente cercando con il group by, ovvero raggruppando per sesso\n",
        "df = dataset_ac[dataset_ac['DEATH_EVENT']==1]\n",
        "df.groupby('sex').size()/dataset_ac.groupby('sex').size()\n"
      ],
      "metadata": {
        "colab": {
          "base_uri": "https://localhost:8080/"
        },
        "id": "jSA1OwfVEOHx",
        "outputId": "b749958e-2324-4ad9-ca2b-21f5fb2469c7"
      },
      "execution_count": 52,
      "outputs": [
        {
          "output_type": "execute_result",
          "data": {
            "text/plain": [
              "sex\n",
              "0    0.323810\n",
              "1    0.319588\n",
              "dtype: float64"
            ]
          },
          "metadata": {},
          "execution_count": 52
        }
      ]
    },
    {
      "cell_type": "code",
      "source": [
        "# il group by raggruppa per una categoria e conta. Non necessiti di una query di ricerca per gli uomini\n",
        "dataset_ac.groupby('sex').size()"
      ],
      "metadata": {
        "colab": {
          "base_uri": "https://localhost:8080/"
        },
        "id": "c1097_OJFnyi",
        "outputId": "b89309db-52b0-46a1-dfa9-e1c7fab76b24"
      },
      "execution_count": 42,
      "outputs": [
        {
          "output_type": "execute_result",
          "data": {
            "text/plain": [
              "sex\n",
              "0    105\n",
              "1    194\n",
              "dtype: int64"
            ]
          },
          "metadata": {},
          "execution_count": 42
        }
      ]
    },
    {
      "cell_type": "code",
      "source": [
        "df_uomini = dataset_ac.where(dataset_ac['sex'] == 0)\n",
        "\n",
        "uomini_where = df_uomini.dropna()\n",
        "\n",
        "print(uomini_where)"
      ],
      "metadata": {
        "colab": {
          "base_uri": "https://localhost:8080/"
        },
        "id": "mLVNMS0CIxuH",
        "outputId": "3716397f-e15d-4b9c-eaef-b6bb17c6e5ca"
      },
      "execution_count": 50,
      "outputs": [
        {
          "output_type": "stream",
          "name": "stdout",
          "text": [
            "      age  anaemia  creatinine_phosphokinase  diabetes  ejection_fraction  \\\n",
            "4    65.0      1.0                     160.0       1.0               20.0   \n",
            "8    65.0      0.0                     157.0       0.0               65.0   \n",
            "14   49.0      1.0                      80.0       0.0               30.0   \n",
            "18   70.0      1.0                     125.0       0.0               25.0   \n",
            "19   48.0      1.0                     582.0       1.0               55.0   \n",
            "..    ...      ...                       ...       ...                ...   \n",
            "288  65.0      0.0                     892.0       1.0               35.0   \n",
            "289  90.0      1.0                     337.0       0.0               38.0   \n",
            "290  45.0      0.0                     615.0       1.0               55.0   \n",
            "295  55.0      0.0                    1820.0       0.0               38.0   \n",
            "296  45.0      0.0                    2060.0       1.0               60.0   \n",
            "\n",
            "     high_blood_pressure  platelets  serum_creatinine  serum_sodium  sex  \\\n",
            "4                    0.0  327000.00               2.7         116.0  0.0   \n",
            "8                    0.0  263358.03               1.5         138.0  0.0   \n",
            "14                   1.0  427000.00               1.0         138.0  0.0   \n",
            "18                   1.0  237000.00               1.0         140.0  0.0   \n",
            "19                   0.0   87000.00               1.9         121.0  0.0   \n",
            "..                   ...        ...               ...           ...  ...   \n",
            "288                  0.0  263358.03               1.1         142.0  0.0   \n",
            "289                  0.0  390000.00               0.9         144.0  0.0   \n",
            "290                  0.0  222000.00               0.8         141.0  0.0   \n",
            "295                  0.0  270000.00               1.2         139.0  0.0   \n",
            "296                  0.0  742000.00               0.8         138.0  0.0   \n",
            "\n",
            "     smoking   time  DEATH_EVENT  \n",
            "4        0.0    8.0          1.0  \n",
            "8        0.0   10.0          1.0  \n",
            "14       0.0   12.0          0.0  \n",
            "18       0.0   15.0          1.0  \n",
            "19       0.0   15.0          1.0  \n",
            "..       ...    ...          ...  \n",
            "288      0.0  256.0          0.0  \n",
            "289      0.0  256.0          0.0  \n",
            "290      0.0  257.0          0.0  \n",
            "295      0.0  271.0          0.0  \n",
            "296      0.0  278.0          0.0  \n",
            "\n",
            "[105 rows x 13 columns]\n"
          ]
        }
      ]
    },
    {
      "cell_type": "code",
      "source": [
        "uomini_where.groupby('sex').size()"
      ],
      "metadata": {
        "colab": {
          "base_uri": "https://localhost:8080/"
        },
        "id": "nvh25MeLKCt0",
        "outputId": "a59b5fdc-541c-44f1-d2ac-d661c4d57a23"
      },
      "execution_count": 51,
      "outputs": [
        {
          "output_type": "execute_result",
          "data": {
            "text/plain": [
              "sex\n",
              "0.0    105\n",
              "dtype: int64"
            ]
          },
          "metadata": {},
          "execution_count": 51
        }
      ]
    },
    {
      "cell_type": "markdown",
      "source": [
        "## Realizzare una pivot_table in cui rappresentare la percentuale di decessi considerando la variabile age (sulle righe e suddivisa in 5 gruppi), la variabile sex e la variabile smoking (entrambe sulle colonne)"
      ],
      "metadata": {
        "id": "2qrGSI5bLUds"
      }
    },
    {
      "cell_type": "code",
      "source": [],
      "metadata": {
        "id": "v7hGg4BdLlYs"
      },
      "execution_count": null,
      "outputs": []
    }
  ]
}